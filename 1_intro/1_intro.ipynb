{
 "cells": [
  {
   "cell_type": "markdown",
   "id": "8e8a8b13",
   "metadata": {},
   "source": [
    "[Home](../0_indice.ipynb)"
   ]
  },
  {
   "cell_type": "markdown",
   "id": "e9dde309",
   "metadata": {},
   "source": [
    "# AI per la musica"
   ]
  },
  {
   "cell_type": "markdown",
   "id": "79a21d9d",
   "metadata": {},
   "source": [
    "## Indice"
   ]
  },
  {
   "cell_type": "markdown",
   "id": "5d1294dd",
   "metadata": {},
   "source": [
    "* [Definizioni](#def)"
   ]
  },
  {
   "cell_type": "markdown",
   "id": "0b9807fa",
   "metadata": {},
   "source": [
    "## Definizioni <a name=\"def\"></a>\n"
   ]
  },
  {
   "cell_type": "code",
   "execution_count": null,
   "id": "c0f6914b",
   "metadata": {},
   "outputs": [],
   "source": [
    "34 + 27"
   ]
  }
 ],
 "metadata": {
  "kernelspec": {
   "display_name": "base",
   "language": "python",
   "name": "python3"
  },
  "language_info": {
   "codemirror_mode": {
    "name": "ipython",
    "version": 3
   },
   "file_extension": ".py",
   "mimetype": "text/x-python",
   "name": "python",
   "nbconvert_exporter": "python",
   "pygments_lexer": "ipython3",
   "version": "3.12.4"
  }
 },
 "nbformat": 4,
 "nbformat_minor": 5
}
