{
 "cells": [
  {
   "cell_type": "markdown",
   "id": "6e447597",
   "metadata": {},
   "source": [
    "[Musicaecodice](https://musicaecodice.github.io/) "
   ]
  },
  {
   "cell_type": "markdown",
   "id": "79a21d9d",
   "metadata": {},
   "source": [
    "# Indice"
   ]
  },
  {
   "cell_type": "markdown",
   "id": "5d1294dd",
   "metadata": {},
   "source": [
    "### Prima parte\n",
    "\n",
    "1. [ciccio](ciccio.html) "
   ]
  }
 ],
 "metadata": {
  "kernelspec": {
   "display_name": "Python 3 (ipykernel)",
   "language": "python",
   "name": "python3"
  },
  "language_info": {
   "codemirror_mode": {
    "name": "ipython",
    "version": 3
   },
   "file_extension": ".py",
   "mimetype": "text/x-python",
   "name": "python",
   "nbconvert_exporter": "python",
   "pygments_lexer": "ipython3",
   "version": "3.12.4"
  }
 },
 "nbformat": 4,
 "nbformat_minor": 5
}
